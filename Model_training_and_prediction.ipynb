{
 "cells": [
  {
   "cell_type": "markdown",
   "metadata": {},
   "source": [
    "## Data Loading"
   ]
  },
  {
   "cell_type": "markdown",
   "metadata": {},
   "source": [
    "First, we will load the data as it is using pandas into dataframe object. "
   ]
  },
  {
   "cell_type": "code",
   "execution_count": 1,
   "metadata": {},
   "outputs": [],
   "source": [
    "import numpy as np \n",
    "import pandas as pd\n",
    "from sklearn.metrics import mean_absolute_error,accuracy_score\n",
    "from sklearn.linear_model import LinearRegression\n",
    "from sklearn.preprocessing import MinMaxScaler\n",
    "import matplotlib.pyplot as plt \n",
    "\n"
   ]
  },
  {
   "cell_type": "code",
   "execution_count": 2,
   "metadata": {},
   "outputs": [
    {
     "data": {
      "text/html": [
       "<div>\n",
       "<style scoped>\n",
       "    .dataframe tbody tr th:only-of-type {\n",
       "        vertical-align: middle;\n",
       "    }\n",
       "\n",
       "    .dataframe tbody tr th {\n",
       "        vertical-align: top;\n",
       "    }\n",
       "\n",
       "    .dataframe thead th {\n",
       "        text-align: right;\n",
       "    }\n",
       "</style>\n",
       "<table border=\"1\" class=\"dataframe\">\n",
       "  <thead>\n",
       "    <tr style=\"text-align: right;\">\n",
       "      <th></th>\n",
       "      <th>id</th>\n",
       "      <th>bond_id</th>\n",
       "      <th>trade_price</th>\n",
       "      <th>weight</th>\n",
       "      <th>current_coupon</th>\n",
       "      <th>time_to_maturity</th>\n",
       "      <th>is_callable</th>\n",
       "      <th>reporting_delay</th>\n",
       "      <th>trade_size</th>\n",
       "      <th>trade_type</th>\n",
       "      <th>...</th>\n",
       "      <th>received_time_diff_last9</th>\n",
       "      <th>trade_price_last9</th>\n",
       "      <th>trade_size_last9</th>\n",
       "      <th>trade_type_last9</th>\n",
       "      <th>curve_based_price_last9</th>\n",
       "      <th>received_time_diff_last10</th>\n",
       "      <th>trade_price_last10</th>\n",
       "      <th>trade_size_last10</th>\n",
       "      <th>trade_type_last10</th>\n",
       "      <th>curve_based_price_last10</th>\n",
       "    </tr>\n",
       "  </thead>\n",
       "  <tbody>\n",
       "    <tr>\n",
       "      <th>0</th>\n",
       "      <td>1</td>\n",
       "      <td>1</td>\n",
       "      <td>128.596</td>\n",
       "      <td>11.316404</td>\n",
       "      <td>5.95</td>\n",
       "      <td>26.031126</td>\n",
       "      <td>0</td>\n",
       "      <td>1.731</td>\n",
       "      <td>120000</td>\n",
       "      <td>2</td>\n",
       "      <td>...</td>\n",
       "      <td>NaN</td>\n",
       "      <td>NaN</td>\n",
       "      <td>NaN</td>\n",
       "      <td>NaN</td>\n",
       "      <td>NaN</td>\n",
       "      <td>NaN</td>\n",
       "      <td>NaN</td>\n",
       "      <td>NaN</td>\n",
       "      <td>NaN</td>\n",
       "      <td>NaN</td>\n",
       "    </tr>\n",
       "    <tr>\n",
       "      <th>1</th>\n",
       "      <td>2</td>\n",
       "      <td>1</td>\n",
       "      <td>126.673</td>\n",
       "      <td>8.763446</td>\n",
       "      <td>5.95</td>\n",
       "      <td>26.016697</td>\n",
       "      <td>0</td>\n",
       "      <td>30.518</td>\n",
       "      <td>85000</td>\n",
       "      <td>4</td>\n",
       "      <td>...</td>\n",
       "      <td>NaN</td>\n",
       "      <td>NaN</td>\n",
       "      <td>NaN</td>\n",
       "      <td>NaN</td>\n",
       "      <td>NaN</td>\n",
       "      <td>NaN</td>\n",
       "      <td>NaN</td>\n",
       "      <td>NaN</td>\n",
       "      <td>NaN</td>\n",
       "      <td>NaN</td>\n",
       "    </tr>\n",
       "    <tr>\n",
       "      <th>2</th>\n",
       "      <td>3</td>\n",
       "      <td>1</td>\n",
       "      <td>126.880</td>\n",
       "      <td>6.499730</td>\n",
       "      <td>5.95</td>\n",
       "      <td>26.008760</td>\n",
       "      <td>0</td>\n",
       "      <td>4.424</td>\n",
       "      <td>4200000</td>\n",
       "      <td>3</td>\n",
       "      <td>...</td>\n",
       "      <td>NaN</td>\n",
       "      <td>NaN</td>\n",
       "      <td>NaN</td>\n",
       "      <td>NaN</td>\n",
       "      <td>NaN</td>\n",
       "      <td>NaN</td>\n",
       "      <td>NaN</td>\n",
       "      <td>NaN</td>\n",
       "      <td>NaN</td>\n",
       "      <td>NaN</td>\n",
       "    </tr>\n",
       "    <tr>\n",
       "      <th>3</th>\n",
       "      <td>4</td>\n",
       "      <td>1</td>\n",
       "      <td>126.362</td>\n",
       "      <td>0.865854</td>\n",
       "      <td>5.95</td>\n",
       "      <td>26.008619</td>\n",
       "      <td>0</td>\n",
       "      <td>43.059</td>\n",
       "      <td>5000001</td>\n",
       "      <td>2</td>\n",
       "      <td>...</td>\n",
       "      <td>NaN</td>\n",
       "      <td>NaN</td>\n",
       "      <td>NaN</td>\n",
       "      <td>NaN</td>\n",
       "      <td>NaN</td>\n",
       "      <td>NaN</td>\n",
       "      <td>NaN</td>\n",
       "      <td>NaN</td>\n",
       "      <td>NaN</td>\n",
       "      <td>NaN</td>\n",
       "    </tr>\n",
       "    <tr>\n",
       "      <th>4</th>\n",
       "      <td>5</td>\n",
       "      <td>1</td>\n",
       "      <td>124.918</td>\n",
       "      <td>11.938543</td>\n",
       "      <td>5.95</td>\n",
       "      <td>25.981840</td>\n",
       "      <td>0</td>\n",
       "      <td>6.332</td>\n",
       "      <td>10000</td>\n",
       "      <td>2</td>\n",
       "      <td>...</td>\n",
       "      <td>NaN</td>\n",
       "      <td>NaN</td>\n",
       "      <td>NaN</td>\n",
       "      <td>NaN</td>\n",
       "      <td>NaN</td>\n",
       "      <td>NaN</td>\n",
       "      <td>NaN</td>\n",
       "      <td>NaN</td>\n",
       "      <td>NaN</td>\n",
       "      <td>NaN</td>\n",
       "    </tr>\n",
       "  </tbody>\n",
       "</table>\n",
       "<p>5 rows × 61 columns</p>\n",
       "</div>"
      ],
      "text/plain": [
       "   id  bond_id  trade_price     weight  current_coupon  time_to_maturity  \\\n",
       "0   1        1      128.596  11.316404            5.95         26.031126   \n",
       "1   2        1      126.673   8.763446            5.95         26.016697   \n",
       "2   3        1      126.880   6.499730            5.95         26.008760   \n",
       "3   4        1      126.362   0.865854            5.95         26.008619   \n",
       "4   5        1      124.918  11.938543            5.95         25.981840   \n",
       "\n",
       "   is_callable  reporting_delay  trade_size  trade_type  ...  \\\n",
       "0            0            1.731      120000           2  ...   \n",
       "1            0           30.518       85000           4  ...   \n",
       "2            0            4.424     4200000           3  ...   \n",
       "3            0           43.059     5000001           2  ...   \n",
       "4            0            6.332       10000           2  ...   \n",
       "\n",
       "   received_time_diff_last9  trade_price_last9  trade_size_last9  \\\n",
       "0                       NaN                NaN               NaN   \n",
       "1                       NaN                NaN               NaN   \n",
       "2                       NaN                NaN               NaN   \n",
       "3                       NaN                NaN               NaN   \n",
       "4                       NaN                NaN               NaN   \n",
       "\n",
       "   trade_type_last9  curve_based_price_last9  received_time_diff_last10  \\\n",
       "0               NaN                      NaN                        NaN   \n",
       "1               NaN                      NaN                        NaN   \n",
       "2               NaN                      NaN                        NaN   \n",
       "3               NaN                      NaN                        NaN   \n",
       "4               NaN                      NaN                        NaN   \n",
       "\n",
       "   trade_price_last10  trade_size_last10  trade_type_last10  \\\n",
       "0                 NaN                NaN                NaN   \n",
       "1                 NaN                NaN                NaN   \n",
       "2                 NaN                NaN                NaN   \n",
       "3                 NaN                NaN                NaN   \n",
       "4                 NaN                NaN                NaN   \n",
       "\n",
       "   curve_based_price_last10  \n",
       "0                       NaN  \n",
       "1                       NaN  \n",
       "2                       NaN  \n",
       "3                       NaN  \n",
       "4                       NaN  \n",
       "\n",
       "[5 rows x 61 columns]"
      ]
     },
     "execution_count": 2,
     "metadata": {},
     "output_type": "execute_result"
    }
   ],
   "source": [
    "train = pd.read_csv('data/train_data.csv')\n",
    "df = pd.read_csv('data/train_data.csv')\n",
    "\n",
    "\n",
    "df.head()"
   ]
  },
  {
   "cell_type": "code",
   "execution_count": 3,
   "metadata": {},
   "outputs": [
    {
     "data": {
      "text/plain": [
       "(3736,)"
      ]
     },
     "execution_count": 3,
     "metadata": {},
     "output_type": "execute_result"
    }
   ],
   "source": [
    "df['bond_id'].unique().shape"
   ]
  },
  {
   "cell_type": "code",
   "execution_count": 4,
   "metadata": {},
   "outputs": [
    {
     "name": "stdout",
     "output_type": "stream",
     "text": [
      "(28, 61)\n"
     ]
    },
    {
     "data": {
      "text/html": [
       "<div>\n",
       "<style scoped>\n",
       "    .dataframe tbody tr th:only-of-type {\n",
       "        vertical-align: middle;\n",
       "    }\n",
       "\n",
       "    .dataframe tbody tr th {\n",
       "        vertical-align: top;\n",
       "    }\n",
       "\n",
       "    .dataframe thead th {\n",
       "        text-align: right;\n",
       "    }\n",
       "</style>\n",
       "<table border=\"1\" class=\"dataframe\">\n",
       "  <thead>\n",
       "    <tr style=\"text-align: right;\">\n",
       "      <th></th>\n",
       "      <th>id</th>\n",
       "      <th>bond_id</th>\n",
       "      <th>trade_price</th>\n",
       "      <th>weight</th>\n",
       "      <th>current_coupon</th>\n",
       "      <th>time_to_maturity</th>\n",
       "      <th>is_callable</th>\n",
       "      <th>reporting_delay</th>\n",
       "      <th>trade_size</th>\n",
       "      <th>trade_type</th>\n",
       "      <th>...</th>\n",
       "      <th>received_time_diff_last9</th>\n",
       "      <th>trade_price_last9</th>\n",
       "      <th>trade_size_last9</th>\n",
       "      <th>trade_type_last9</th>\n",
       "      <th>curve_based_price_last9</th>\n",
       "      <th>received_time_diff_last10</th>\n",
       "      <th>trade_price_last10</th>\n",
       "      <th>trade_size_last10</th>\n",
       "      <th>trade_type_last10</th>\n",
       "      <th>curve_based_price_last10</th>\n",
       "    </tr>\n",
       "  </thead>\n",
       "  <tbody>\n",
       "    <tr>\n",
       "      <th>0</th>\n",
       "      <td>1</td>\n",
       "      <td>1</td>\n",
       "      <td>128.596</td>\n",
       "      <td>11.316404</td>\n",
       "      <td>5.95</td>\n",
       "      <td>26.031126</td>\n",
       "      <td>0</td>\n",
       "      <td>1.731</td>\n",
       "      <td>120000</td>\n",
       "      <td>2</td>\n",
       "      <td>...</td>\n",
       "      <td>NaN</td>\n",
       "      <td>NaN</td>\n",
       "      <td>NaN</td>\n",
       "      <td>NaN</td>\n",
       "      <td>NaN</td>\n",
       "      <td>NaN</td>\n",
       "      <td>NaN</td>\n",
       "      <td>NaN</td>\n",
       "      <td>NaN</td>\n",
       "      <td>NaN</td>\n",
       "    </tr>\n",
       "    <tr>\n",
       "      <th>1</th>\n",
       "      <td>2</td>\n",
       "      <td>1</td>\n",
       "      <td>126.673</td>\n",
       "      <td>8.763446</td>\n",
       "      <td>5.95</td>\n",
       "      <td>26.016697</td>\n",
       "      <td>0</td>\n",
       "      <td>30.518</td>\n",
       "      <td>85000</td>\n",
       "      <td>4</td>\n",
       "      <td>...</td>\n",
       "      <td>NaN</td>\n",
       "      <td>NaN</td>\n",
       "      <td>NaN</td>\n",
       "      <td>NaN</td>\n",
       "      <td>NaN</td>\n",
       "      <td>NaN</td>\n",
       "      <td>NaN</td>\n",
       "      <td>NaN</td>\n",
       "      <td>NaN</td>\n",
       "      <td>NaN</td>\n",
       "    </tr>\n",
       "    <tr>\n",
       "      <th>2</th>\n",
       "      <td>3</td>\n",
       "      <td>1</td>\n",
       "      <td>126.880</td>\n",
       "      <td>6.499730</td>\n",
       "      <td>5.95</td>\n",
       "      <td>26.008760</td>\n",
       "      <td>0</td>\n",
       "      <td>4.424</td>\n",
       "      <td>4200000</td>\n",
       "      <td>3</td>\n",
       "      <td>...</td>\n",
       "      <td>NaN</td>\n",
       "      <td>NaN</td>\n",
       "      <td>NaN</td>\n",
       "      <td>NaN</td>\n",
       "      <td>NaN</td>\n",
       "      <td>NaN</td>\n",
       "      <td>NaN</td>\n",
       "      <td>NaN</td>\n",
       "      <td>NaN</td>\n",
       "      <td>NaN</td>\n",
       "    </tr>\n",
       "    <tr>\n",
       "      <th>3</th>\n",
       "      <td>4</td>\n",
       "      <td>1</td>\n",
       "      <td>126.362</td>\n",
       "      <td>0.865854</td>\n",
       "      <td>5.95</td>\n",
       "      <td>26.008619</td>\n",
       "      <td>0</td>\n",
       "      <td>43.059</td>\n",
       "      <td>5000001</td>\n",
       "      <td>2</td>\n",
       "      <td>...</td>\n",
       "      <td>NaN</td>\n",
       "      <td>NaN</td>\n",
       "      <td>NaN</td>\n",
       "      <td>NaN</td>\n",
       "      <td>NaN</td>\n",
       "      <td>NaN</td>\n",
       "      <td>NaN</td>\n",
       "      <td>NaN</td>\n",
       "      <td>NaN</td>\n",
       "      <td>NaN</td>\n",
       "    </tr>\n",
       "    <tr>\n",
       "      <th>4</th>\n",
       "      <td>5</td>\n",
       "      <td>1</td>\n",
       "      <td>124.918</td>\n",
       "      <td>11.938543</td>\n",
       "      <td>5.95</td>\n",
       "      <td>25.981840</td>\n",
       "      <td>0</td>\n",
       "      <td>6.332</td>\n",
       "      <td>10000</td>\n",
       "      <td>2</td>\n",
       "      <td>...</td>\n",
       "      <td>NaN</td>\n",
       "      <td>NaN</td>\n",
       "      <td>NaN</td>\n",
       "      <td>NaN</td>\n",
       "      <td>NaN</td>\n",
       "      <td>NaN</td>\n",
       "      <td>NaN</td>\n",
       "      <td>NaN</td>\n",
       "      <td>NaN</td>\n",
       "      <td>NaN</td>\n",
       "    </tr>\n",
       "  </tbody>\n",
       "</table>\n",
       "<p>5 rows × 61 columns</p>\n",
       "</div>"
      ],
      "text/plain": [
       "   id  bond_id  trade_price     weight  current_coupon  time_to_maturity  \\\n",
       "0   1        1      128.596  11.316404            5.95         26.031126   \n",
       "1   2        1      126.673   8.763446            5.95         26.016697   \n",
       "2   3        1      126.880   6.499730            5.95         26.008760   \n",
       "3   4        1      126.362   0.865854            5.95         26.008619   \n",
       "4   5        1      124.918  11.938543            5.95         25.981840   \n",
       "\n",
       "   is_callable  reporting_delay  trade_size  trade_type  ...  \\\n",
       "0            0            1.731      120000           2  ...   \n",
       "1            0           30.518       85000           4  ...   \n",
       "2            0            4.424     4200000           3  ...   \n",
       "3            0           43.059     5000001           2  ...   \n",
       "4            0            6.332       10000           2  ...   \n",
       "\n",
       "   received_time_diff_last9  trade_price_last9  trade_size_last9  \\\n",
       "0                       NaN                NaN               NaN   \n",
       "1                       NaN                NaN               NaN   \n",
       "2                       NaN                NaN               NaN   \n",
       "3                       NaN                NaN               NaN   \n",
       "4                       NaN                NaN               NaN   \n",
       "\n",
       "   trade_type_last9  curve_based_price_last9  received_time_diff_last10  \\\n",
       "0               NaN                      NaN                        NaN   \n",
       "1               NaN                      NaN                        NaN   \n",
       "2               NaN                      NaN                        NaN   \n",
       "3               NaN                      NaN                        NaN   \n",
       "4               NaN                      NaN                        NaN   \n",
       "\n",
       "   trade_price_last10  trade_size_last10  trade_type_last10  \\\n",
       "0                 NaN                NaN                NaN   \n",
       "1                 NaN                NaN                NaN   \n",
       "2                 NaN                NaN                NaN   \n",
       "3                 NaN                NaN                NaN   \n",
       "4                 NaN                NaN                NaN   \n",
       "\n",
       "   curve_based_price_last10  \n",
       "0                       NaN  \n",
       "1                       NaN  \n",
       "2                       NaN  \n",
       "3                       NaN  \n",
       "4                       NaN  \n",
       "\n",
       "[5 rows x 61 columns]"
      ]
     },
     "execution_count": 4,
     "metadata": {},
     "output_type": "execute_result"
    }
   ],
   "source": [
    "_id=1\n",
    "train_1 = train[train['bond_id'] ==_id] \n",
    "print(train_1.shape)\n",
    "train_1.head()"
   ]
  },
  {
   "cell_type": "code",
   "execution_count": 18,
   "metadata": {},
   "outputs": [
    {
     "data": {
      "image/png": "[encoded data removed]",
      "text/plain": [
       "<Figure size 720x720 with 1 Axes>"
      ]
     },
     "metadata": {
      "needs_background": "light"
     },
     "output_type": "display_data"
    }
   ],
   "source": [
    "plt.figure(figsize=(10,10))\n",
    "plt.plot(range(0,len(train_1)),train_1['trade_price'],label='Trade Price') \n",
    "plt.ylabel('Price')\n",
    "plt.xlabel('No of trade')\n",
    "plt.legend() \n",
    "plt.show()"
   ]
  },
  {
   "cell_type": "markdown",
   "metadata": {},
   "source": [
    "There are 3736 unique bonds present in the data, while we can use this as one Id in real world, but in the Kaggle competition there is no bond_id in the test.csv file so we can either prepare data using it or can drop it. But, dropping bond_id is loosing meaningfful of info, so we will create one function  which we can use for each bond Id to construct time-series data for it an then we will train some models on it. "
   ]
  },
  {
   "cell_type": "markdown",
   "metadata": {},
   "source": [
    "## Data Preparation"
   ]
  },
  {
   "cell_type": "markdown",
   "metadata": {},
   "source": [
    "We can not use id column at all. So we will drop it first. Then we will create one function which can take our dataframe and construct time series data from it. It means that the next trade price will be output for the current trade. This way we will provide the current data to predict the next trade price. "
   ]
  },
  {
   "cell_type": "code",
   "execution_count": 6,
   "metadata": {},
   "outputs": [],
   "source": [
    "df.drop('id', axis=1, inplace=True)"
   ]
  },
  {
   "cell_type": "code",
   "execution_count": 7,
   "metadata": {},
   "outputs": [],
   "source": [
    "def series_to_supervise(df, s=1):\n",
    "    shifted_df = df.shift(s)\n",
    "    shifted_df.rename(columns= {'trade_price':'output_trade_price'}, inplace=True)\n",
    "    y_out = shifted_df['output_trade_price']\n",
    "    del shifted_df\n",
    "    \n",
    "    return pd.concat([df, y_out], axis=1)"
   ]
  },
  {
   "cell_type": "code",
   "execution_count": 8,
   "metadata": {},
   "outputs": [],
   "source": [
    "grouped = df.groupby(['bond_id'])"
   ]
  },
  {
   "cell_type": "markdown",
   "metadata": {},
   "source": [
    "We have more than 3000 unique bonds. So for all of those bonds we have to construct the time series data. So, we will use groupby object and then will apply our function to create the time-series data from it. Then we will combine all the data into one dataframe for further usage. "
   ]
  },
  {
   "cell_type": "code",
   "execution_count": 9,
   "metadata": {},
   "outputs": [],
   "source": [
    "final_data = []\n",
    "for name, data in grouped:\n",
    "    data_sup = series_to_supervise(data)\n",
    "    data_sup.dropna(subset=['output_trade_price'], inplace=True)\n",
    "    final_data.append(data_sup)"
   ]
  },
  {
   "cell_type": "code",
   "execution_count": 10,
   "metadata": {},
   "outputs": [
    {
     "name": "stdout",
     "output_type": "stream",
     "text": [
      "(758942, 61)\n"
     ]
    },
    {
     "data": {
      "text/html": [
       "<div>\n",
       "<style scoped>\n",
       "    .dataframe tbody tr th:only-of-type {\n",
       "        vertical-align: middle;\n",
       "    }\n",
       "\n",
       "    .dataframe tbody tr th {\n",
       "        vertical-align: top;\n",
       "    }\n",
       "\n",
       "    .dataframe thead th {\n",
       "        text-align: right;\n",
       "    }\n",
       "</style>\n",
       "<table border=\"1\" class=\"dataframe\">\n",
       "  <thead>\n",
       "    <tr style=\"text-align: right;\">\n",
       "      <th></th>\n",
       "      <th>bond_id</th>\n",
       "      <th>trade_price</th>\n",
       "      <th>weight</th>\n",
       "      <th>current_coupon</th>\n",
       "      <th>time_to_maturity</th>\n",
       "      <th>is_callable</th>\n",
       "      <th>reporting_delay</th>\n",
       "      <th>trade_size</th>\n",
       "      <th>trade_type</th>\n",
       "      <th>curve_based_price</th>\n",
       "      <th>...</th>\n",
       "      <th>trade_price_last9</th>\n",
       "      <th>trade_size_last9</th>\n",
       "      <th>trade_type_last9</th>\n",
       "      <th>curve_based_price_last9</th>\n",
       "      <th>received_time_diff_last10</th>\n",
       "      <th>trade_price_last10</th>\n",
       "      <th>trade_size_last10</th>\n",
       "      <th>trade_type_last10</th>\n",
       "      <th>curve_based_price_last10</th>\n",
       "      <th>output_trade_price</th>\n",
       "    </tr>\n",
       "  </thead>\n",
       "  <tbody>\n",
       "    <tr>\n",
       "      <th>1</th>\n",
       "      <td>1</td>\n",
       "      <td>126.673</td>\n",
       "      <td>8.763446</td>\n",
       "      <td>5.95</td>\n",
       "      <td>26.016697</td>\n",
       "      <td>0</td>\n",
       "      <td>30.518</td>\n",
       "      <td>85000</td>\n",
       "      <td>4</td>\n",
       "      <td>126.323528</td>\n",
       "      <td>...</td>\n",
       "      <td>NaN</td>\n",
       "      <td>NaN</td>\n",
       "      <td>NaN</td>\n",
       "      <td>NaN</td>\n",
       "      <td>NaN</td>\n",
       "      <td>NaN</td>\n",
       "      <td>NaN</td>\n",
       "      <td>NaN</td>\n",
       "      <td>NaN</td>\n",
       "      <td>128.596</td>\n",
       "    </tr>\n",
       "    <tr>\n",
       "      <th>2</th>\n",
       "      <td>1</td>\n",
       "      <td>126.880</td>\n",
       "      <td>6.499730</td>\n",
       "      <td>5.95</td>\n",
       "      <td>26.008760</td>\n",
       "      <td>0</td>\n",
       "      <td>4.424</td>\n",
       "      <td>4200000</td>\n",
       "      <td>3</td>\n",
       "      <td>126.761433</td>\n",
       "      <td>...</td>\n",
       "      <td>NaN</td>\n",
       "      <td>NaN</td>\n",
       "      <td>NaN</td>\n",
       "      <td>NaN</td>\n",
       "      <td>NaN</td>\n",
       "      <td>NaN</td>\n",
       "      <td>NaN</td>\n",
       "      <td>NaN</td>\n",
       "      <td>NaN</td>\n",
       "      <td>126.673</td>\n",
       "    </tr>\n",
       "    <tr>\n",
       "      <th>3</th>\n",
       "      <td>1</td>\n",
       "      <td>126.362</td>\n",
       "      <td>0.865854</td>\n",
       "      <td>5.95</td>\n",
       "      <td>26.008619</td>\n",
       "      <td>0</td>\n",
       "      <td>43.059</td>\n",
       "      <td>5000001</td>\n",
       "      <td>2</td>\n",
       "      <td>127.025765</td>\n",
       "      <td>...</td>\n",
       "      <td>NaN</td>\n",
       "      <td>NaN</td>\n",
       "      <td>NaN</td>\n",
       "      <td>NaN</td>\n",
       "      <td>NaN</td>\n",
       "      <td>NaN</td>\n",
       "      <td>NaN</td>\n",
       "      <td>NaN</td>\n",
       "      <td>NaN</td>\n",
       "      <td>126.880</td>\n",
       "    </tr>\n",
       "    <tr>\n",
       "      <th>4</th>\n",
       "      <td>1</td>\n",
       "      <td>124.918</td>\n",
       "      <td>11.938543</td>\n",
       "      <td>5.95</td>\n",
       "      <td>25.981840</td>\n",
       "      <td>0</td>\n",
       "      <td>6.332</td>\n",
       "      <td>10000</td>\n",
       "      <td>2</td>\n",
       "      <td>125.736081</td>\n",
       "      <td>...</td>\n",
       "      <td>NaN</td>\n",
       "      <td>NaN</td>\n",
       "      <td>NaN</td>\n",
       "      <td>NaN</td>\n",
       "      <td>NaN</td>\n",
       "      <td>NaN</td>\n",
       "      <td>NaN</td>\n",
       "      <td>NaN</td>\n",
       "      <td>NaN</td>\n",
       "      <td>126.362</td>\n",
       "    </tr>\n",
       "    <tr>\n",
       "      <th>5</th>\n",
       "      <td>1</td>\n",
       "      <td>128.891</td>\n",
       "      <td>1.479307</td>\n",
       "      <td>5.95</td>\n",
       "      <td>25.981429</td>\n",
       "      <td>0</td>\n",
       "      <td>35.982</td>\n",
       "      <td>29000</td>\n",
       "      <td>4</td>\n",
       "      <td>126.636079</td>\n",
       "      <td>...</td>\n",
       "      <td>NaN</td>\n",
       "      <td>NaN</td>\n",
       "      <td>NaN</td>\n",
       "      <td>NaN</td>\n",
       "      <td>NaN</td>\n",
       "      <td>NaN</td>\n",
       "      <td>NaN</td>\n",
       "      <td>NaN</td>\n",
       "      <td>NaN</td>\n",
       "      <td>124.918</td>\n",
       "    </tr>\n",
       "  </tbody>\n",
       "</table>\n",
       "<p>5 rows × 61 columns</p>\n",
       "</div>"
      ],
      "text/plain": [
       "   bond_id  trade_price     weight  current_coupon  time_to_maturity  \\\n",
       "1        1      126.673   8.763446            5.95         26.016697   \n",
       "2        1      126.880   6.499730            5.95         26.008760   \n",
       "3        1      126.362   0.865854            5.95         26.008619   \n",
       "4        1      124.918  11.938543            5.95         25.981840   \n",
       "5        1      128.891   1.479307            5.95         25.981429   \n",
       "\n",
       "   is_callable  reporting_delay  trade_size  trade_type  curve_based_price  \\\n",
       "1            0           30.518       85000           4         126.323528   \n",
       "2            0            4.424     4200000           3         126.761433   \n",
       "3            0           43.059     5000001           2         127.025765   \n",
       "4            0            6.332       10000           2         125.736081   \n",
       "5            0           35.982       29000           4         126.636079   \n",
       "\n",
       "   ...  trade_price_last9  trade_size_last9  trade_type_last9  \\\n",
       "1  ...                NaN               NaN               NaN   \n",
       "2  ...                NaN               NaN               NaN   \n",
       "3  ...                NaN               NaN               NaN   \n",
       "4  ...                NaN               NaN               NaN   \n",
       "5  ...                NaN               NaN               NaN   \n",
       "\n",
       "   curve_based_price_last9  received_time_diff_last10  trade_price_last10  \\\n",
       "1                      NaN                        NaN                 NaN   \n",
       "2                      NaN                        NaN                 NaN   \n",
       "3                      NaN                        NaN                 NaN   \n",
       "4                      NaN                        NaN                 NaN   \n",
       "5                      NaN                        NaN                 NaN   \n",
       "\n",
       "   trade_size_last10  trade_type_last10  curve_based_price_last10  \\\n",
       "1                NaN                NaN                       NaN   \n",
       "2                NaN                NaN                       NaN   \n",
       "3                NaN                NaN                       NaN   \n",
       "4                NaN                NaN                       NaN   \n",
       "5                NaN                NaN                       NaN   \n",
       "\n",
       "   output_trade_price  \n",
       "1             128.596  \n",
       "2             126.673  \n",
       "3             126.880  \n",
       "4             126.362  \n",
       "5             124.918  \n",
       "\n",
       "[5 rows x 61 columns]"
      ]
     },
     "execution_count": 10,
     "metadata": {},
     "output_type": "execute_result"
    }
   ],
   "source": [
    "df_sup = pd.concat(final_data)\n",
    "print(df_sup.shape)\n",
    "df_sup.head()"
   ]
  },
  {
   "cell_type": "markdown",
   "metadata": {},
   "source": [
    "The above dataframe has our last column as output. Now, we do not need bond_id column as it has not useful information for us. Also this column is not present in to the test.csv file for the competition. So, we will try to closely to the competition data. Then, we will scale the data to the range of 0 to 1. This way our model can fit the data best as it is normalized. "
   ]
  },
  {
   "cell_type": "code",
   "execution_count": 11,
   "metadata": {},
   "outputs": [],
   "source": [
    "df_sup.drop('bond_id', axis=1, inplace=True)"
   ]
  },
  {
   "cell_type": "code",
   "execution_count": 12,
   "metadata": {},
   "outputs": [],
   "source": [
    "df_sup.fillna(0,inplace=True)\n",
    "scaler = MinMaxScaler(feature_range=(0, 1))\n",
    "# scaled = scaler.fit_transform(df)"
   ]
  },
  {
   "cell_type": "code",
   "execution_count": 13,
   "metadata": {},
   "outputs": [],
   "source": [
    "data = scaler.fit_transform(df_sup)"
   ]
  },
  {
   "cell_type": "code",
   "execution_count": 14,
   "metadata": {},
   "outputs": [
    {
     "data": {
      "text/plain": [
       "(758942, 60)"
      ]
     },
     "execution_count": 14,
     "metadata": {},
     "output_type": "execute_result"
    }
   ],
   "source": [
    "data.shape"
   ]
  },
  {
   "cell_type": "markdown",
   "metadata": {},
   "source": [
    "Now, it is time to split the data into train and test data. We will use 90% of the data to train the model and the rest 10% for testing our model. We are going to use LSTM model so we will reshape our data as per the required shape of the LSTM.  "
   ]
  },
  {
   "cell_type": "code",
   "execution_count": 15,
   "metadata": {},
   "outputs": [],
   "source": [
    "x = data[:, :-1]\n",
    "y = data[:, -1]"
   ]
  },
  {
   "cell_type": "code",
   "execution_count": 16,
   "metadata": {},
   "outputs": [
    {
     "name": "stdout",
     "output_type": "stream",
     "text": [
      "(680141, 1, 59) (680141,) (78801, 1, 59) (78801,)\n"
     ]
    }
   ],
   "source": [
    "train_x, test_x = x[:680141, :], x[680141:, :]\n",
    "train_y, test_y = y[:680141], y[680141:]\n",
    "train_x = train_x.reshape((train_x.shape[0], 1, train_x.shape[1]))\n",
    "test_x = test_x.reshape((test_x.shape[0], 1, test_x.shape[1]))\n",
    "print(train_x.shape, train_y.shape, test_x.shape, test_y.shape)"
   ]
  },
  {
   "cell_type": "markdown",
   "metadata": {},
   "source": [
    "## Model Building "
   ]
  },
  {
   "cell_type": "markdown",
   "metadata": {},
   "source": [
    "Now we will bild our model. We are using Keras library for it. It is running on top of the tensorflow. We will create simple LSTM model with one LSTM and one Dense layer for output. In output layer, we will use linear activation as our final output is price, which is float. "
   ]
  },
  {
   "cell_type": "code",
   "execution_count": 12,
   "metadata": {},
   "outputs": [
    {
     "ename": "ModuleNotFoundError",
     "evalue": "No module named 'tensorflow'",
     "output_type": "error",
     "traceback": [
      "\u001b[0;31m---------------------------------------------------------------------------\u001b[0m",
      "\u001b[0;31mModuleNotFoundError\u001b[0m                       Traceback (most recent call last)",
      "\u001b[0;32m<ipython-input-12-fbde4ab3cb85>\u001b[0m in \u001b[0;36m<module>\u001b[0;34m\u001b[0m\n\u001b[0;32m----> 1\u001b[0;31m \u001b[0;32mfrom\u001b[0m \u001b[0mtensorflow\u001b[0m\u001b[0;34m.\u001b[0m\u001b[0mkeras\u001b[0m\u001b[0;34m.\u001b[0m\u001b[0mlayers\u001b[0m \u001b[0;32mimport\u001b[0m \u001b[0mDense\u001b[0m\u001b[0;34m,\u001b[0m\u001b[0mLSTM\u001b[0m\u001b[0;34m,\u001b[0m \u001b[0mActivation\u001b[0m\u001b[0;34m\u001b[0m\u001b[0;34m\u001b[0m\u001b[0m\n\u001b[0m\u001b[1;32m      2\u001b[0m \u001b[0;32mfrom\u001b[0m \u001b[0mtensorflow\u001b[0m\u001b[0;34m.\u001b[0m\u001b[0mkeras\u001b[0m\u001b[0;34m.\u001b[0m\u001b[0mmodels\u001b[0m \u001b[0;32mimport\u001b[0m \u001b[0mSequential\u001b[0m\u001b[0;34m\u001b[0m\u001b[0;34m\u001b[0m\u001b[0m\n\u001b[1;32m      3\u001b[0m \u001b[0;34m\u001b[0m\u001b[0m\n\u001b[1;32m      4\u001b[0m \u001b[0;31m# Model defination\u001b[0m\u001b[0;34m\u001b[0m\u001b[0;34m\u001b[0m\u001b[0;34m\u001b[0m\u001b[0m\n\u001b[1;32m      5\u001b[0m \u001b[0;34m\u001b[0m\u001b[0m\n",
      "\u001b[0;31mModuleNotFoundError\u001b[0m: No module named 'tensorflow'"
     ]
    }
   ],
   "source": [
    "from tensorflow.keras.layers import Dense,LSTM, Activation\n",
    "from tensorflow.keras.models import Sequential\n",
    "\n",
    "# Model defination\n",
    "\n",
    "model = Sequential()\n",
    "model.add(LSTM(32, input_shape=(train_x.shape[1], train_x.shape[2])))\n",
    "model.add(Dense(1))\n",
    "model.add(Activation('linear'))\n",
    "model.compile(loss='mean_absolute_error', optimizer='adam')"
   ]
  },
  {
   "cell_type": "markdown",
   "metadata": {},
   "source": [
    "Now, it is time to train the model. Let's do it. "
   ]
  },
  {
   "cell_type": "code",
   "execution_count": 13,
   "metadata": {},
   "outputs": [
    {
     "ename": "NameError",
     "evalue": "name 'model' is not defined",
     "output_type": "error",
     "traceback": [
      "\u001b[0;31m---------------------------------------------------------------------------\u001b[0m",
      "\u001b[0;31mNameError\u001b[0m                                 Traceback (most recent call last)",
      "\u001b[0;32m<ipython-input-13-eaed8b8efbaa>\u001b[0m in \u001b[0;36m<module>\u001b[0;34m\u001b[0m\n\u001b[0;32m----> 1\u001b[0;31m \u001b[0mmodel\u001b[0m\u001b[0;34m.\u001b[0m\u001b[0mfit\u001b[0m\u001b[0;34m(\u001b[0m\u001b[0mtrain_x\u001b[0m\u001b[0;34m,\u001b[0m \u001b[0mtrain_y\u001b[0m\u001b[0;34m,\u001b[0m\u001b[0mepochs\u001b[0m\u001b[0;34m=\u001b[0m\u001b[0;36m10\u001b[0m\u001b[0;34m,\u001b[0m \u001b[0mbatch_size\u001b[0m\u001b[0;34m=\u001b[0m\u001b[0;36m32\u001b[0m\u001b[0;34m,\u001b[0m \u001b[0mvalidation_data\u001b[0m\u001b[0;34m=\u001b[0m\u001b[0;34m(\u001b[0m\u001b[0mtest_x\u001b[0m\u001b[0;34m,\u001b[0m \u001b[0mtest_y\u001b[0m\u001b[0;34m)\u001b[0m\u001b[0;34m,\u001b[0m \u001b[0mverbose\u001b[0m\u001b[0;34m=\u001b[0m\u001b[0;36m1\u001b[0m\u001b[0;34m,\u001b[0m \u001b[0mshuffle\u001b[0m\u001b[0;34m=\u001b[0m\u001b[0;32mFalse\u001b[0m\u001b[0;34m)\u001b[0m\u001b[0;34m\u001b[0m\u001b[0;34m\u001b[0m\u001b[0m\n\u001b[0m",
      "\u001b[0;31mNameError\u001b[0m: name 'model' is not defined"
     ]
    }
   ],
   "source": [
    "model.fit(train_x, train_y,epochs=10, batch_size=32, validation_data=(test_x, test_y), verbose=1, shuffle=False)"
   ]
  },
  {
   "cell_type": "markdown",
   "metadata": {},
   "source": [
    "Now, as our model is trained, let's test it. We will make predictions on the test data and then will check out the root mean square error of the predictions. In the process to do so, we also need to convert the normalized data into raw data. We can do this by using MinMaxScaler inverse_transform function"
   ]
  },
  {
   "cell_type": "code",
   "execution_count": 9,
   "metadata": {},
   "outputs": [],
   "source": [
    "from math import sqrt \n",
    "from sklearn.metrics import mean_squared_error"
   ]
  },
  {
   "cell_type": "code",
   "execution_count": null,
   "metadata": {},
   "outputs": [],
   "source": [
    "preds = model.predict(test_x)\n",
    "\n",
    "test_X = test_x.reshape((test_x.shape[0], test_x.shape[2]))\n",
    "print(test_X.shape)\n",
    "# invert scaling for forecast\n",
    "inv_yhat = np.concatenate((test_X[:, :], preds), axis=1)\n",
    "print(inv_yhat.shape)\n",
    "inv_yhat = scaler.inverse_transform(inv_yhat)\n",
    "inv_yhat = inv_yhat[:,-1]\n",
    "# invert scaling for actual\n",
    "test_y = test_y.reshape((len(test_y), 1))\n",
    "inv_y = np.concatenate((test_X[:, :], test_y), axis=1)\n",
    "inv_y = scaler.inverse_transform(inv_y)\n",
    "inv_y = inv_y[:,-1]\n",
    "# calculate RMSE\n",
    "rmse =sqrt(mean_squared_error(inv_y, inv_yhat))\n",
    "print('Test RMSE: %.3f' % rmse)"
   ]
  },
  {
   "cell_type": "markdown",
   "metadata": {
    "collapsed": true
   },
   "source": [
    "## Prediction on some other data"
   ]
  },
  {
   "cell_type": "code",
   "execution_count": null,
   "metadata": {},
   "outputs": [],
   "source": [
    "test_data = test_x[0:5,:,:]\n",
    "test_truth = test_y[0:5]"
   ]
  },
  {
   "cell_type": "code",
   "execution_count": null,
   "metadata": {},
   "outputs": [],
   "source": [
    "pred = model.predict(test_data)"
   ]
  },
  {
   "cell_type": "code",
   "execution_count": null,
   "metadata": {},
   "outputs": [],
   "source": [
    "test_X = test_data.reshape((test_data.shape[0], test_data.shape[2]))\n",
    "print(test_X.shape)\n",
    "# invert scaling for forecast\n",
    "inv_yhat = np.concatenate((test_X[:, :], pred), axis=1)\n",
    "print(inv_yhat.shape)\n",
    "inv_yhat = scaler.inverse_transform(inv_yhat)\n",
    "inv_yhat = inv_yhat[:,-1]\n",
    "# invert scaling for actual\n",
    "test_truth = test_truth.reshape((len(test_truth), 1))\n",
    "inv_y = np.concatenate((test_X[:, :], test_truth), axis=1)\n",
    "inv_y = scaler.inverse_transform(inv_y)\n",
    "inv_y = inv_y[:,-1]"
   ]
  },
  {
   "cell_type": "code",
   "execution_count": null,
   "metadata": {},
   "outputs": [],
   "source": [
    "dataframe = pd.DataFrame({'Predicted trade price': inv_yhat, 'Real trade price': inv_y})"
   ]
  },
  {
   "cell_type": "code",
   "execution_count": null,
   "metadata": {},
   "outputs": [],
   "source": [
    "dataframe"
   ]
  },
  {
   "cell_type": "markdown",
   "metadata": {},
   "source": [
    "The above predicted prices are really close to the real prices. There can be chances of data leakage or some other issue like overfiting of the model. But, it shows to us the potential of LSTM network to predict the trade price of the bonds given the historical data."
   ]
  }
 ],
 "metadata": {
  "kernelspec": {
   "display_name": "Python 3",
   "language": "python",
   "name": "python3"
  },
  "language_info": {
   "codemirror_mode": {
    "name": "ipython",
    "version": 3
   },
   "file_extension": ".py",
   "mimetype": "text/x-python",
   "name": "python",
   "nbconvert_exporter": "python",
   "pygments_lexer": "ipython3",
   "version": "3.8.5"
  }
 },
 "nbformat": 4,
 "nbformat_minor": 2
}
